{
 "cells": [
  {
   "cell_type": "code",
   "execution_count": 1,
   "id": "55f0aa97-4230-4354-be5d-a58873755dcc",
   "metadata": {},
   "outputs": [],
   "source": [
    "# Q1. What is an API? Give an example, where an API is used in real life."
   ]
  },
  {
   "cell_type": "code",
   "execution_count": 3,
   "id": "7dbdf7da-e7ee-4040-b51f-af180c75ed24",
   "metadata": {},
   "outputs": [],
   "source": [
    "# Ans. APIs are mechanisms that enable two software components to communicate with each other using a set of definitions and protocols\n",
    "# APIs are used in web applications to connect user-facing front ends with critical back-end functionality and data. APIs are used to deliver material by streaming services such as Spotify and Netflix. APIs are used by automakers such as Tesla to provide software upgrades\n",
    "# For example, the weather bureau's software system contains daily weather data. The weather app on your phone “talks” to this system via APIs and shows you daily weather updates on your phone."
   ]
  },
  {
   "cell_type": "code",
   "execution_count": 4,
   "id": "9b8cda11-8a37-46fc-ad0b-58a4622d1ae1",
   "metadata": {},
   "outputs": [],
   "source": [
    "# Q2. Give advantages and disadvantages of using API."
   ]
  },
  {
   "cell_type": "code",
   "execution_count": 5,
   "id": "ee32c390-67c0-43ad-b7db-21922203b592",
   "metadata": {},
   "outputs": [],
   "source": [
    "# An API (Application Programming Interface) is a software intermediary that facilitates information exchange between different applications. Infrastructure API is a type of API that allows for the merging of products and services directly with an application. APIs play an increasingly important role in healthcare data exchange when it comes to data analytics, medical research, or creating innovative ways to access the EHR.\n",
    "\n",
    "# Advantages:\n",
    "#Increased Interoperability: API solutions enable different software systems to communicate with each other, regardless of their programming language or platform. This enhances the interoperability between systems, allowing for the exchange of data and functionality.\n",
    "#Improved Efficiency: API driven infrastructures enable developers to reuse code and functionality from existing software systems, saving time and reducing the amount of code that needs to be written from scratch.\n",
    "#Better User Experience: APIs can enable third-party developers to create applications that integrate with existing software systems, providing a better user experience and increased functionality.\n",
    "#Increased Flexibility: APIs provide developers with greater flexibility, enabling them to choose the best programming languages and frameworks for their needs.\n",
    "#New Revenue Streams: APIs can enable companies to create new revenue streams by providing third-party developers with access to their software systems.\n",
    "\n",
    "# Disadvantages:\n",
    "#Security Concerns: API infrastructures can be vulnerable to security breaches, such as SQL injection attacks and cross-site scripting (XSS) attacks, making it crucial to implement security measures to protect against these threats.\n",
    "#Complexity: APIs can be complex, requiring a significant amount of development effort to implement and maintain.\n",
    "#Compatibility Issues: APIs can have compatibility issues between different versions of the same software system or between different systems, which can lead to errors and system failures.\n",
    "#Dependency on Third-Party Developers: APIs rely on third-party developers to create applications that integrate with the software system. This can create dependencies that are outside of the control of the company that owns the software system.\n",
    "#Governance and Management: APIs require proper governance and management to ensure they are being used correctly and consistently across different applications and systems."
   ]
  },
  {
   "cell_type": "code",
   "execution_count": 6,
   "id": "38e49c6b-f20f-4f66-a473-91032c46eced",
   "metadata": {},
   "outputs": [],
   "source": [
    "# Q3. What is a Web API? Differentiate between API and Web API."
   ]
  },
  {
   "cell_type": "code",
   "execution_count": 7,
   "id": "4b73a1f5-8330-4704-a5f9-b7ef36ece66d",
   "metadata": {},
   "outputs": [],
   "source": [
    "# A Web API stands for Application Programming Interface. It is a software application that allows two different applications or machines to interact with each other without any user interference. The API contains a complete set of rules and specifications used when interacting with any web application.\n",
    "#Features of Web APIs\n",
    "#Language independent\n",
    "#Personalization\n",
    "#Efficiency\n",
    "#Wider reach\n",
    "#Data ownership\n",
    "#Easy integration with GUI\n",
    "#Time Effective\n",
    "\n",
    "# API is an interface that exposes an application's data to outside software, whereas web applications are one type of API with stricter requirements."
   ]
  },
  {
   "cell_type": "code",
   "execution_count": 8,
   "id": "0d29ea89-2cd2-4c79-bb51-643d1eb990bc",
   "metadata": {},
   "outputs": [],
   "source": [
    "# Q4. Differentiate between REST and SOAP."
   ]
  },
  {
   "cell_type": "code",
   "execution_count": 9,
   "id": "a5aad777-a63e-440f-9baa-a51f238497e2",
   "metadata": {},
   "outputs": [],
   "source": [
    "#Difference Between SOAP and REST:\n",
    "\n",
    "##SOAP\n",
    "# 1. SOAP stands for Simple Object Access Protocol\n",
    "# 2. SOAP is a protocol. SOAP was designed with a specification. It includes a WSDL file which has the required information on what the web service does in addition to the location of the web service.\n",
    "# 3. SOAP cannot make use of REST since SOAP is a protocol and REST is an architectural pattern.\n",
    "# 4. SOAP uses service interfaces to expose its functionality to client applications. In SOAP, the WSDL file provides the client with the necessary information which can be used to understand what services the web service can offer.\n",
    "# 5. SOAP requires more bandwidth for its usage. Since SOAP Messages contain a lot of information inside of it, the amount of data transfer using SOAP is generally a lot.\n",
    "# 6. SOAP can only work with XML format. As seen from SOAP messages, all data passed is in XML format.\n",
    "\n",
    "##REST\n",
    "# 1. REST stands for Representational State Transfer\n",
    "# 2. REST is an Architectural style in which a web service can only be treated as a RESTful service if it follows the constraints of being\n",
    "#Client Server\n",
    "#Stateless\n",
    "#Cacheable\n",
    "#Layered System\n",
    "#Uniform Interface\n",
    "# 3. REST can make use of SOAP as the underlying protocol for web services, because in the end it is just an architectural pattern.\n",
    "# 4. REST does not need much bandwidth when requests are sent to the server. REST messages mostly just consist of JSON messages. Below is an example of a JSON message passed to a web server. You can see that the size of the message is comparatively smaller to SOAP.\n",
    "# {\"city\":\"Mumbai\",\"state\":\"Maharastra\"}\n",
    "# 5. REST permits different data format such as Plain text, HTML, XML, JSON, etc. But the most preferred format for transferring data is JSON."
   ]
  },
  {
   "cell_type": "code",
   "execution_count": 10,
   "id": "1fc8a7bb-5d2f-4f72-b89b-980644da61e2",
   "metadata": {},
   "outputs": [],
   "source": [
    "# Q. 5 Explain REST and SOAP Architecture. Mention shortcomings of SOAP."
   ]
  },
  {
   "cell_type": "code",
   "execution_count": null,
   "id": "08279c75-b891-42cf-9af6-f8cb59babc75",
   "metadata": {},
   "outputs": [],
   "source": [
    "# Ans:\n",
    "#REST stands for REpresentational State Transfer and API stands for Application Program Interface. REST is a software architectural style that defines the set of rules to be used for creating web services. Web services which follow the REST architectural style are known as RESTful web services. It allows requesting systems to access and manipulate web resources by using a uniform and predefined set of rules. Interaction in REST based systems happen through Internet’s Hypertext Transfer Protocol (HTTP). \n",
    "# A Restful system consists of a:\n",
    "\n",
    "#client who requests for the resources.\n",
    "#server who has the resources.\n",
    "# It is important to create REST API according to industry standards which results in ease of development and increase client adoption. \n",
    "# Uniform Interface\n",
    "#Stateless\n",
    "#Cacheable\n",
    "#Client-Server\n",
    "#Layered System\n",
    "#Code on Demand\n",
    "\n",
    "# SOAP is a protocol for the exchange of information in a distributed environment. SOAP messages are encoded as XML documents and can be exchanged using various underlying protocols.\n",
    "# SOAP stands for Simple Object Access Protocol is a network platform used in a web service to exchange or communicate data between two different machines on a network. It uses the XML format of data to transfer messages over the HTTP protocol. In Web services, SOAP allows the user request to interact with other programming languages. In this way, it provides a way to communicate between applications running on different platforms (Operating system), with programming languages and technologies used in web service.\n",
    "# Characteristics of SOAP\n",
    "# It is an open standard protocol used in the web service to communicate via internet.\n",
    "#It is used to broadcast a message over the network.\n",
    "#It is used to call remote procedures and exchange documents.\n",
    "#It can be used on any platform and can support multi-languages. So, it is a platform and language independent.\n",
    "#It uses the XML format to send messages over the HTTP protocol.\n",
    "#The structure of a SOAP message consists of an envelope, header, and body element.\n",
    "\n",
    "# Disadvantages of SOAP\n",
    "#API Calls are not Cached\n",
    "#An API call is a process of sending a request when an API has been set up with the necessary endpoints. The information is transferred, processed, and feedback is supplied as a result of the process. It is not feasible to cache SOAP API requests.\n",
    "#Extremely Complicated\n",
    "#SOAP is substantially more sophisticated than REST. It is also less adaptable. For developers who aren't very experienced, this could be a problem. Performance may be slowed as a result of the substantial processing required.\n",
    "#No Choice of Data Formats\n",
    "#SOAP's support for data formats is likewise severely constrained. HTML, JSON, YAML, XML, and more formats are supported by REST. SOAP, on the other hand, only supports XML.\n",
    "#Requires More Bandwidth\n",
    "#SOAP is often slower than REST, and it also consumes more bandwidth due to its complexity. It's also a limiting issue in the technology's efficacy for some applications."
   ]
  }
 ],
 "metadata": {
  "kernelspec": {
   "display_name": "Python 3 (ipykernel)",
   "language": "python",
   "name": "python3"
  },
  "language_info": {
   "codemirror_mode": {
    "name": "ipython",
    "version": 3
   },
   "file_extension": ".py",
   "mimetype": "text/x-python",
   "name": "python",
   "nbconvert_exporter": "python",
   "pygments_lexer": "ipython3",
   "version": "3.10.8"
  }
 },
 "nbformat": 4,
 "nbformat_minor": 5
}
